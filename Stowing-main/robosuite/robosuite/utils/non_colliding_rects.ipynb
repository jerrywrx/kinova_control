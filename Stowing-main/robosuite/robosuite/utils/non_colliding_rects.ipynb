{
 "cells": [
  {
   "cell_type": "code",
   "execution_count": 229,
   "metadata": {},
   "outputs": [
    {
     "name": "stdout",
     "output_type": "stream",
     "text": [
      "4 out of the 16 rectangles selected\n"
     ]
    },
    {
     "data": {
      "image/png": "[encoded data removed]",
      "text/plain": [
       "<PIL.Image.Image image mode=RGB size=641x481>"
      ]
     },
     "metadata": {},
     "output_type": "display_data"
    }
   ],
   "source": [
    "import random\n",
    "from random import randint\n",
    "random.seed()\n",
    "%matplotlib inline\n",
    "\n",
    "class Point(object):\n",
    "    def __init__(self, x, y):\n",
    "        self.x, self.y = x, y\n",
    "\n",
    "    @staticmethod\n",
    "    def from_point(other):\n",
    "        return Point(other.x, other.y)\n",
    "\n",
    "class Rect(object):\n",
    "    def __init__(self, x1, y1, x2, y2):\n",
    "        minx, maxx = (x1,x2) if x1 < x2 else (x2,x1)\n",
    "        miny, maxy = (y1,y2) if y1 < y2 else (y2,y1)\n",
    "        self.min, self.max = Point(minx, miny), Point(maxx, maxy)\n",
    "\n",
    "    @staticmethod\n",
    "    def from_points(p1, p2):\n",
    "        return Rect(p1.x, p1.y, p2.x, p2.y)\n",
    "\n",
    "    width  = property(lambda self: self.max.x - self.min.x)\n",
    "    height = property(lambda self: self.max.y - self.min.y)\n",
    "\n",
    "plus_or_minus = lambda v: v * [-1, 1][(randint(0, 100) % 2)]  # equal chance +/-1\n",
    "\n",
    "def quadsect(rect, factor):\n",
    "    \"\"\" Subdivide given rectangle into four non-overlapping rectangles.\n",
    "        'factor' is an integer representing the proportion of the width or\n",
    "        height the deviatation from the center of the rectangle allowed.\n",
    "    \"\"\"\n",
    "    # pick a point in the interior of given rectangle\n",
    "    w, h = rect.width, rect.height  # cache properties\n",
    "    center = Point(rect.min.x + (w // 2), rect.min.y + (h // 2))\n",
    "    delta_x = plus_or_minus(randint(0, w // factor))\n",
    "    delta_y = plus_or_minus(randint(0, h // factor))\n",
    "    interior = Point(center.x + delta_x, center.y + delta_y)\n",
    "\n",
    "    # create rectangles from the interior point and the corners of the outer one\n",
    "    return [Rect(interior.x, interior.y, rect.min.x, rect.min.y),\n",
    "            Rect(interior.x, interior.y, rect.max.x, rect.min.y),\n",
    "            Rect(interior.x, interior.y, rect.max.x, rect.max.y),\n",
    "            Rect(interior.x, interior.y, rect.min.x, rect.max.y)]\n",
    "\n",
    "def square_subregion(rect):\n",
    "    \"\"\" Return a square rectangle centered within the given rectangle \"\"\"\n",
    "    w, h = rect.width, rect.height  # cache properties\n",
    "    if w < h:\n",
    "        offset = (h - w) // 2\n",
    "        return Rect(rect.min.x, rect.min.y+offset,\n",
    "                    rect.max.x, rect.min.y+offset+w)\n",
    "    else:\n",
    "        offset = (w - h) // 2\n",
    "        return Rect(rect.min.x+offset, rect.min.y,\n",
    "                    rect.min.x+offset+h, rect.max.y)\n",
    "\n",
    "NUM_RECTS = 4\n",
    "REGION = Rect(0, 0, 640, 480)\n",
    "\n",
    "\n",
    "# call quadsect() until at least the number of rects wanted has been generated\n",
    "rects = [REGION]   # seed output list\n",
    "while len(rects) <= NUM_RECTS:\n",
    "    rects = [subrect for rect in rects\n",
    "                        for subrect in quadsect(rect, 3)]\n",
    "\n",
    "# random.shuffle(rects)  # mix them up\n",
    "sample = random.sample(rects, NUM_RECTS)  # select the desired number\n",
    "print ('%d out of the %d rectangles selected' % (NUM_RECTS, len(rects)))\n",
    "\n",
    "#################################################\n",
    "# extra credit - create an image file showing results\n",
    "\n",
    "from PIL import Image, ImageDraw\n",
    "\n",
    "def gray(v): return tuple(int(v*255) for _ in range(3))\n",
    "\n",
    "BLACK, DARK_GRAY, GRAY = gray(0), gray(.25), gray(.5)\n",
    "LIGHT_GRAY, WHITE = gray(.75), gray(1)\n",
    "RED, GREEN, BLUE = (255, 0, 0), (0, 255, 0), (0, 0, 255)\n",
    "CYAN, MAGENTA, YELLOW = (0, 255, 255), (255, 0, 255), (255, 255, 0)\n",
    "BACKGR, SQUARE_COLOR, RECT_COLOR = (245, 245, 87), (255, 73, 73), (37, 182, 249)\n",
    "\n",
    "imgx, imgy = REGION.max.x + 1, REGION.max.y + 1\n",
    "image = Image.new(\"RGB\", (imgx, imgy), BACKGR)  # create color image\n",
    "draw = ImageDraw.Draw(image)\n",
    "\n",
    "def draw_rect(rect, fill=None, outline=WHITE):\n",
    "    draw.rectangle([(rect.min.x, rect.min.y), (rect.max.x, rect.max.y)],\n",
    "                   fill=fill, outline=outline)\n",
    "# first draw outlines of all the non-overlapping rectanges generated\n",
    "for rect in rects:\n",
    "    draw_rect(rect, outline=LIGHT_GRAY)\n",
    "\n",
    "# then draw the random sample of them selected\n",
    "for rect in sample:\n",
    "    draw_rect(rect, fill=RECT_COLOR, outline=WHITE)\n",
    "\n",
    "# and lastly convert those into squares and re-draw them in another color\n",
    "for rect in sample:\n",
    "    draw_rect(square_subregion(rect), fill=SQUARE_COLOR, outline=BLACK)\n",
    "\n",
    "display(image)\n",
    "\n",
    "# filename = 'square_quadsections.png'\n",
    "# image.show(filename)\n",
    "# print (repr(filename), 'output image saved')"
   ]
  }
 ],
 "metadata": {
  "kernelspec": {
   "display_name": "py37",
   "language": "python",
   "name": "python3"
  },
  "language_info": {
   "codemirror_mode": {
    "name": "ipython",
    "version": 3
   },
   "file_extension": ".py",
   "mimetype": "text/x-python",
   "name": "python",
   "nbconvert_exporter": "python",
   "pygments_lexer": "ipython3",
   "version": "3.7.15"
  },
  "orig_nbformat": 4,
  "vscode": {
   "interpreter": {
    "hash": "dadf4b07c9041637827afca9306faa6fab9691aad391c71c9b0ef456eb9b8e2c"
   }
  }
 },
 "nbformat": 4,
 "nbformat_minor": 2
}
